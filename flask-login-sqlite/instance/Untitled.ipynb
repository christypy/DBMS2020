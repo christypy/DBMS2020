{
 "cells": [
  {
   "cell_type": "code",
   "execution_count": 22,
   "metadata": {},
   "outputs": [],
   "source": [
    "import csv, sqlite3\n",
    "\n",
    "con = sqlite3.connect(\"flask-crud.db\") # change to 'sqlite:///your_filename.db'\n",
    "cur = con.cursor()\n",
    "\n",
    "with open('Location.csv','r') as fin: # `with` statement available in 2.5+\n",
    "    dr = csv.DictReader(fin) # comma is default delimiter\n",
    "    to_db = [(i['loc_id'], i['l_name'],i['um_count']) for i in dr]\n",
    "# to_db\n",
    "cur.executemany(\"INSERT INTO Location (loc_id, building_name,um_count) VALUES (?, ?,?);\", to_db)\n",
    "con.commit()\n",
    "con.close()"
   ]
  },
  {
   "cell_type": "code",
   "execution_count": 1,
   "metadata": {},
   "outputs": [
    {
     "data": {
      "text/html": [
       "<div>\n",
       "<style scoped>\n",
       "    .dataframe tbody tr th:only-of-type {\n",
       "        vertical-align: middle;\n",
       "    }\n",
       "\n",
       "    .dataframe tbody tr th {\n",
       "        vertical-align: top;\n",
       "    }\n",
       "\n",
       "    .dataframe thead th {\n",
       "        text-align: right;\n",
       "    }\n",
       "</style>\n",
       "<table border=\"1\" class=\"dataframe\">\n",
       "  <thead>\n",
       "    <tr style=\"text-align: right;\">\n",
       "      <th></th>\n",
       "      <th>u_id</th>\n",
       "      <th>u_color</th>\n",
       "      <th>u_size</th>\n",
       "      <th>u_status</th>\n",
       "      <th>loc_id</th>\n",
       "    </tr>\n",
       "  </thead>\n",
       "  <tbody>\n",
       "    <tr>\n",
       "      <th>0</th>\n",
       "      <td>1</td>\n",
       "      <td>藍</td>\n",
       "      <td>小</td>\n",
       "      <td>正常</td>\n",
       "      <td>30</td>\n",
       "    </tr>\n",
       "    <tr>\n",
       "      <th>1</th>\n",
       "      <td>2</td>\n",
       "      <td>紅</td>\n",
       "      <td>大</td>\n",
       "      <td>正常</td>\n",
       "      <td>15</td>\n",
       "    </tr>\n",
       "    <tr>\n",
       "      <th>2</th>\n",
       "      <td>3</td>\n",
       "      <td>綠</td>\n",
       "      <td>小</td>\n",
       "      <td>正常</td>\n",
       "      <td>51</td>\n",
       "    </tr>\n",
       "    <tr>\n",
       "      <th>3</th>\n",
       "      <td>4</td>\n",
       "      <td>藍</td>\n",
       "      <td>大</td>\n",
       "      <td>正常</td>\n",
       "      <td>37</td>\n",
       "    </tr>\n",
       "    <tr>\n",
       "      <th>4</th>\n",
       "      <td>5</td>\n",
       "      <td>白</td>\n",
       "      <td>大</td>\n",
       "      <td>正常</td>\n",
       "      <td>19</td>\n",
       "    </tr>\n",
       "    <tr>\n",
       "      <th>...</th>\n",
       "      <td>...</td>\n",
       "      <td>...</td>\n",
       "      <td>...</td>\n",
       "      <td>...</td>\n",
       "      <td>...</td>\n",
       "    </tr>\n",
       "    <tr>\n",
       "      <th>494</th>\n",
       "      <td>495</td>\n",
       "      <td>咖啡</td>\n",
       "      <td>大</td>\n",
       "      <td>正常</td>\n",
       "      <td>47</td>\n",
       "    </tr>\n",
       "    <tr>\n",
       "      <th>495</th>\n",
       "      <td>496</td>\n",
       "      <td>藍</td>\n",
       "      <td>小</td>\n",
       "      <td>正常</td>\n",
       "      <td>3</td>\n",
       "    </tr>\n",
       "    <tr>\n",
       "      <th>496</th>\n",
       "      <td>497</td>\n",
       "      <td>藍</td>\n",
       "      <td>大</td>\n",
       "      <td>正常</td>\n",
       "      <td>51</td>\n",
       "    </tr>\n",
       "    <tr>\n",
       "      <th>497</th>\n",
       "      <td>498</td>\n",
       "      <td>紫</td>\n",
       "      <td>大</td>\n",
       "      <td>正常</td>\n",
       "      <td>43</td>\n",
       "    </tr>\n",
       "    <tr>\n",
       "      <th>498</th>\n",
       "      <td>499</td>\n",
       "      <td>紫</td>\n",
       "      <td>小</td>\n",
       "      <td>正常</td>\n",
       "      <td>18</td>\n",
       "    </tr>\n",
       "  </tbody>\n",
       "</table>\n",
       "<p>499 rows × 5 columns</p>\n",
       "</div>"
      ],
      "text/plain": [
       "     u_id u_color u_size u_status  loc_id\n",
       "0       1       藍      小       正常      30\n",
       "1       2       紅      大       正常      15\n",
       "2       3       綠      小       正常      51\n",
       "3       4       藍      大       正常      37\n",
       "4       5       白      大       正常      19\n",
       "..    ...     ...    ...      ...     ...\n",
       "494   495      咖啡      大       正常      47\n",
       "495   496       藍      小       正常       3\n",
       "496   497       藍      大       正常      51\n",
       "497   498       紫      大       正常      43\n",
       "498   499       紫      小       正常      18\n",
       "\n",
       "[499 rows x 5 columns]"
      ]
     },
     "execution_count": 1,
     "metadata": {},
     "output_type": "execute_result"
    }
   ],
   "source": [
    "import pandas as pd \n",
    "df1=pd.read_csv('Umbrella.csv')\n",
    "df1"
   ]
  },
  {
   "cell_type": "code",
   "execution_count": 3,
   "metadata": {},
   "outputs": [],
   "source": [
    "import csv, sqlite3\n",
    "\n",
    "con = sqlite3.connect(\"flask-crud.db\") # change to 'sqlite:///your_filename.db'\n",
    "cur = con.cursor()\n",
    "\n",
    "with open('Umbrella.csv','r') as fin: # `with` statement available in 2.5+\n",
    "    dr = csv.DictReader(fin) # comma is default delimiter\n",
    "#     for i in dr:\n",
    "#         print(i)\n",
    "    to_db = [(i['u_id'], i['u_color'],i['u_size'],i['loc_id'],i['u_status']) for i in dr]\n",
    "# to_db\n",
    "cur.executemany(\"INSERT INTO umbrella (u_id, u_color,u_size,loc_id,u_status) VALUES (?, ?,?,?,?);\", to_db)\n",
    "con.commit()\n",
    "con.close()"
   ]
  },
  {
   "cell_type": "code",
   "execution_count": null,
   "metadata": {},
   "outputs": [],
   "source": [
    "import csv, sqlite3\n",
    "\n",
    "con = sqlite3.connect(\"flask-crud.db\") # change to 'sqlite:///your_filename.db'\n",
    "cur = con.cursor()\n",
    "\n",
    "with open('Umbrella.csv','r') as fin: # `with` statement available in 2.5+\n",
    "    dr = csv.DictReader(fin) # comma is default delimiter\n",
    "    to_db = [(i['u_id'], i['u_color'],i['u_size'],i['loc_id']) for i in dr]\n",
    "# to_db\n",
    "cur.executemany(\"INSERT INTO umbrella (u_id, u_color,u_size,loc_id) VALUES (?, ?,?,?);\", to_db)\n",
    "con.commit()\n",
    "con.close()"
   ]
  },
  {
   "cell_type": "code",
   "execution_count": 6,
   "metadata": {},
   "outputs": [
    {
     "name": "stdout",
     "output_type": "stream",
     "text": [
      "[('正門', '正門'), ('社資中心', '社資中心'), ('井塘樓', '井塘樓'), ('憩賢樓', '憩賢樓'), ('學思樓', '學思樓'), ('逸仙樓', '逸仙樓'), ('中正圖書館', '中正圖書館'), ('志希樓', '志希樓'), ('果夫樓', '果夫樓'), ('校友服務中心', '校友服務中心'), ('風樓', '風樓'), ('四維堂', '四維堂'), ('學生活動中心', '學生活動中心'), ('樂活小舖', '樂活小舖'), ('資訊大樓', '資訊大樓'), ('健康中心', '健康中心'), ('行政大樓', '行政大樓'), ('政大書城', '政大書城'), ('新聞館', '新聞館'), ('大智樓', '大智樓'), ('大仁樓', '大仁樓'), ('大勇樓', '大勇樓'), ('收發室', '收發室'), ('游泳館', '游泳館'), ('體育館', '體育館'), ('研究大樓', '研究大樓'), ('商學院館', '商學院館'), ('綜合院館', '綜合院館'), ('傳播學院', '傳播學院'), ('道藩樓', '道藩樓'), ('百年樓', '百年樓'), ('季陶樓', '季陶樓'), ('國際大樓', '國際大樓'), ('藝文中心', '藝文中心'), ('藝文中心大禮堂', '藝文中心大禮堂'), ('政大實幼', '政大實幼'), ('莊敬一舍', '莊敬一舍'), ('莊敬二舍', '莊敬二舍'), ('莊敬三舍', '莊敬三舍'), ('莊敬四舍', '莊敬四舍'), ('莊敬五、六舍', '莊敬五、六舍'), ('莊敬七、八舍', '莊敬七、八舍'), ('莊敬九舍', '莊敬九舍'), ('自強五、六舍', '自強五、六舍'), ('自強七、八舍', '自強七、八舍'), ('自強一、二、三舍', '自強一、二、三舍'), ('自強九舍', '自強九舍'), ('玫苑', '玫苑'), ('政大實小', '政大實小'), ('自強十舍', '自強十舍'), ('研創中心', '研創中心')]\n"
     ]
    }
   ],
   "source": [
    "import pandas as pd\n",
    "df1=pd.read_csv('Location.csv')\n",
    "list1=df1['l_name'].tolist()\n",
    "tt=[]\n",
    "for i in list1:\n",
    "    tt.append((i,i))\n",
    "print(tt)"
   ]
  },
  {
   "cell_type": "code",
   "execution_count": 6,
   "metadata": {},
   "outputs": [
    {
     "data": {
      "text/plain": [
       "1.0"
      ]
     },
     "execution_count": 6,
     "metadata": {},
     "output_type": "execute_result"
    }
   ],
   "source": [
    "24/24"
   ]
  },
  {
   "cell_type": "code",
   "execution_count": 7,
   "metadata": {},
   "outputs": [
    {
     "data": {
      "text/plain": [
       "2.0"
      ]
     },
     "execution_count": 7,
     "metadata": {},
     "output_type": "execute_result"
    }
   ],
   "source": [
    "48/24"
   ]
  },
  {
   "cell_type": "code",
   "execution_count": 8,
   "metadata": {},
   "outputs": [
    {
     "ename": "SyntaxError",
     "evalue": "invalid syntax (<ipython-input-8-ce12b2e30621>, line 1)",
     "output_type": "error",
     "traceback": [
      "\u001b[0;36m  File \u001b[0;32m\"<ipython-input-8-ce12b2e30621>\"\u001b[0;36m, line \u001b[0;32m1\u001b[0m\n\u001b[0;31m    if '3' in '123'\u001b[0m\n\u001b[0m                   ^\u001b[0m\n\u001b[0;31mSyntaxError\u001b[0m\u001b[0;31m:\u001b[0m invalid syntax\n"
     ]
    }
   ],
   "source": [
    "if '3' in '123'"
   ]
  },
  {
   "cell_type": "code",
   "execution_count": null,
   "metadata": {},
   "outputs": [],
   "source": []
  }
 ],
 "metadata": {
  "kernelspec": {
   "display_name": "Python 3",
   "language": "python",
   "name": "python3"
  },
  "language_info": {
   "codemirror_mode": {
    "name": "ipython",
    "version": 3
   },
   "file_extension": ".py",
   "mimetype": "text/x-python",
   "name": "python",
   "nbconvert_exporter": "python",
   "pygments_lexer": "ipython3",
   "version": "3.7.7"
  }
 },
 "nbformat": 4,
 "nbformat_minor": 4
}
